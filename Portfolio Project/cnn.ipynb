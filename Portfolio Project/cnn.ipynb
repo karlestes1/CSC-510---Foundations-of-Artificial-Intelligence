{
 "cells": [
  {
   "cell_type": "markdown",
   "metadata": {},
   "source": [
    "## CNN's For Portfolio Project\n"
   ]
  },
  {
   "cell_type": "code",
   "execution_count": 1,
   "metadata": {},
   "outputs": [],
   "source": [
    "import tensorflow as tf \n",
    "import matplotlib.pyplot as plt\n",
    "import numpy as np\n",
    "import pandas as pd\n",
    "import os\n",
    "import cv2 as cv\n",
    "from sklearn.model_selection import train_test_split\n",
    "\n",
    "batch_size = 10\n",
    "model_names = ['cor_cnn.hdf5','tra_cnn.hdf5','sag_cnn.hdf5']\n",
    "image_dirs = ['Data/MRI/coronal','Data/MRI/transverse','Data/MRI/sagittal']\n",
    "checkpoint_dirs = []\n",
    "cp_callbacks = []\n",
    "\n",
    "for name in model_names:\n",
    "    checkpoint_dirs.append(os.path.join(os.getcwd(),\"models\",name))\n",
    "\n",
    "for direc in checkpoint_dirs:\n",
    "    cp_callbacks.append(tf.keras.callbacks.ModelCheckpoint(filepath=direc, monitor=\"val_accuracy\", save_weights_only=False, verbose=0, save_freq='epoch', save_best_only=True))\n",
    "\n",
    "oasis_df = pd.read_csv(\"Data/oasis_filtered.csv\")"
   ]
  },
  {
   "cell_type": "markdown",
   "metadata": {},
   "source": [
    "### Model Definitions"
   ]
  },
  {
   "cell_type": "code",
   "execution_count": 2,
   "metadata": {},
   "outputs": [
    {
     "name": "stdout",
     "output_type": "stream",
     "text": [
      "Model: \"sequential\"\n",
      "_________________________________________________________________\n",
      "Layer (type)                 Output Shape              Param #   \n",
      "=================================================================\n",
      "conv2d (Conv2D)              (None, 172, 172, 64)      4864      \n",
      "_________________________________________________________________\n",
      "max_pooling2d (MaxPooling2D) (None, 57, 57, 64)        0         \n",
      "_________________________________________________________________\n",
      "conv2d_1 (Conv2D)            (None, 55, 55, 32)        18464     \n",
      "_________________________________________________________________\n",
      "max_pooling2d_1 (MaxPooling2 (None, 27, 27, 32)        0         \n",
      "_________________________________________________________________\n",
      "conv2d_2 (Conv2D)            (None, 25, 25, 32)        9248      \n",
      "_________________________________________________________________\n",
      "flatten (Flatten)            (None, 20000)             0         \n",
      "_________________________________________________________________\n",
      "dropout (Dropout)            (None, 20000)             0         \n",
      "_________________________________________________________________\n",
      "dense (Dense)                (None, 32)                640032    \n",
      "_________________________________________________________________\n",
      "dense_1 (Dense)              (None, 5)                 165       \n",
      "=================================================================\n",
      "Total params: 672,773\n",
      "Trainable params: 672,773\n",
      "Non-trainable params: 0\n",
      "_________________________________________________________________\n"
     ]
    },
    {
     "name": "stderr",
     "output_type": "stream",
     "text": [
      "2021-11-02 15:57:54.290367: I tensorflow/core/platform/cpu_feature_guard.cc:142] This TensorFlow binary is optimized with oneAPI Deep Neural Network Library (oneDNN) to use the following CPU instructions in performance-critical operations:  AVX2 FMA\n",
      "To enable them in other operations, rebuild TensorFlow with the appropriate compiler flags.\n"
     ]
    }
   ],
   "source": [
    "# CORONAL MODEL\n",
    "# cor_model = tf.keras.models.Sequential([\n",
    "#     tf.keras.layers.Conv2D(32, (3,3), activation='relu', input_shape=(176,176,3)),\n",
    "#     tf.keras.layers.MaxPooling2D((2,2)),\n",
    "#     tf.keras.layers.Conv2D(64, (3,3), activation='relu'),\n",
    "#     tf.keras.layers.MaxPooling2D((2,2)),\n",
    "#     tf.keras.layers.Conv2D(64,(3,3),activation='relu'),\n",
    "#     tf.keras.layers.Flatten(),\n",
    "#     tf.keras.layers.Dense(64, activation='relu'),\n",
    "#     tf.keras.layers.Dense(5, activation='softmax'),\n",
    "# ])\n",
    "\n",
    "cor_model = tf.keras.models.Sequential([\n",
    "    tf.keras.layers.InputLayer(input_shape=(176,176,3)),\n",
    "    tf.keras.layers.Conv2D(64, (5,5), activation='relu'),\n",
    "    tf.keras.layers.MaxPooling2D((3,3)),\n",
    "    tf.keras.layers.Conv2D(32, (3,3), activation='relu'),\n",
    "    tf.keras.layers.MaxPooling2D((2,2)),\n",
    "    tf.keras.layers.Conv2D(32, (3,3), activation='relu'),\n",
    "    tf.keras.layers.Flatten(),\n",
    "    tf.keras.layers.Dropout(.1),\n",
    "    tf.keras.layers.Dense(32),\n",
    "    tf.keras.layers.Dense(5, activation='softmax'),\n",
    "])\n",
    "\n",
    "cor_model.summary()\n",
    "cor_model.compile(optimizer='adam',loss=tf.keras.losses.CategoricalCrossentropy(from_logits=False), metrics=['accuracy'])"
   ]
  },
  {
   "cell_type": "code",
   "execution_count": 12,
   "metadata": {},
   "outputs": [
    {
     "name": "stdout",
     "output_type": "stream",
     "text": [
      "Model: \"sequential_5\"\n",
      "_________________________________________________________________\n",
      "Layer (type)                 Output Shape              Param #   \n",
      "=================================================================\n",
      "conv2d_15 (Conv2D)           (None, 204, 172, 64)      4864      \n",
      "_________________________________________________________________\n",
      "max_pooling2d_10 (MaxPooling (None, 68, 57, 64)        0         \n",
      "_________________________________________________________________\n",
      "conv2d_16 (Conv2D)           (None, 66, 55, 32)        18464     \n",
      "_________________________________________________________________\n",
      "max_pooling2d_11 (MaxPooling (None, 33, 27, 32)        0         \n",
      "_________________________________________________________________\n",
      "conv2d_17 (Conv2D)           (None, 31, 25, 32)        9248      \n",
      "_________________________________________________________________\n",
      "flatten_5 (Flatten)          (None, 24800)             0         \n",
      "_________________________________________________________________\n",
      "dropout_5 (Dropout)          (None, 24800)             0         \n",
      "_________________________________________________________________\n",
      "dense_10 (Dense)             (None, 32)                793632    \n",
      "_________________________________________________________________\n",
      "dense_11 (Dense)             (None, 5)                 165       \n",
      "=================================================================\n",
      "Total params: 826,373\n",
      "Trainable params: 826,373\n",
      "Non-trainable params: 0\n",
      "_________________________________________________________________\n"
     ]
    }
   ],
   "source": [
    "# TRANSVERSE MODEL\n",
    "# tra_model = tf.keras.models.Sequential([\n",
    "#     tf.keras.layers.Conv2D(32, (3,3), activation='relu', input_shape=(208,176,3)),\n",
    "#     tf.keras.layers.MaxPooling2D((2,2)),\n",
    "#     tf.keras.layers.Conv2D(64, (3,3), activation='relu'),\n",
    "#     tf.keras.layers.MaxPooling2D((2,2)),\n",
    "#     tf.keras.layers.Conv2D(64,(3,3),activation='relu'),\n",
    "#     tf.keras.layers.Flatten(),\n",
    "#     tf.keras.layers.Dense(64, activation='relu'),\n",
    "#     tf.keras.layers.Dense(5)\n",
    "# ])\n",
    "\n",
    "tra_model = tf.keras.models.Sequential([\n",
    "    tf.keras.layers.InputLayer(input_shape=(208,176,3)),\n",
    "    tf.keras.layers.Conv2D(64, (5,5), activation='relu'),\n",
    "    tf.keras.layers.MaxPooling2D((3,3)),\n",
    "    tf.keras.layers.Conv2D(32, (3,3), activation='relu'),\n",
    "    tf.keras.layers.MaxPooling2D((2,2)),\n",
    "    tf.keras.layers.Conv2D(32, (3,3), activation='relu'),\n",
    "    tf.keras.layers.Flatten(),\n",
    "    tf.keras.layers.Dropout(.1),\n",
    "    tf.keras.layers.Dense(32),\n",
    "    tf.keras.layers.Dense(5, activation='softmax'),\n",
    "])\n",
    "\n",
    "tra_model.summary()\n",
    "tra_model.compile(optimizer='adam',loss=tf.keras.losses.CategoricalCrossentropy(from_logits=False), metrics=['accuracy'])"
   ]
  },
  {
   "cell_type": "code",
   "execution_count": 11,
   "metadata": {},
   "outputs": [
    {
     "name": "stdout",
     "output_type": "stream",
     "text": [
      "Model: \"sequential_3\"\n",
      "_________________________________________________________________\n",
      "Layer (type)                 Output Shape              Param #   \n",
      "=================================================================\n",
      "conv2d_9 (Conv2D)            (None, 172, 204, 64)      4864      \n",
      "_________________________________________________________________\n",
      "max_pooling2d_6 (MaxPooling2 (None, 57, 68, 64)        0         \n",
      "_________________________________________________________________\n",
      "conv2d_10 (Conv2D)           (None, 55, 66, 32)        18464     \n",
      "_________________________________________________________________\n",
      "max_pooling2d_7 (MaxPooling2 (None, 27, 33, 32)        0         \n",
      "_________________________________________________________________\n",
      "conv2d_11 (Conv2D)           (None, 25, 31, 32)        9248      \n",
      "_________________________________________________________________\n",
      "flatten_3 (Flatten)          (None, 24800)             0         \n",
      "_________________________________________________________________\n",
      "dropout_3 (Dropout)          (None, 24800)             0         \n",
      "_________________________________________________________________\n",
      "dense_6 (Dense)              (None, 32)                793632    \n",
      "_________________________________________________________________\n",
      "dense_7 (Dense)              (None, 5)                 165       \n",
      "=================================================================\n",
      "Total params: 826,373\n",
      "Trainable params: 826,373\n",
      "Non-trainable params: 0\n",
      "_________________________________________________________________\n"
     ]
    }
   ],
   "source": [
    "# SAGITTAL MODEL\n",
    "# sag_model = tf.keras.models.Sequential([\n",
    "#     tf.keras.layers.Conv2D(32, (3,3), activation='relu', input_shape=(176,208,3)),\n",
    "#     tf.keras.layers.MaxPooling2D((2,2)),\n",
    "#     tf.keras.layers.Conv2D(64, (3,3), activation='relu'),\n",
    "#     tf.keras.layers.MaxPooling2D((2,2)),\n",
    "#     tf.keras.layers.Conv2D(64,(3,3),activation='relu'),\n",
    "#     tf.keras.layers.Flatten(),\n",
    "#     tf.keras.layers.Dense(64, activation='relu'),\n",
    "#     tf.keras.layers.Dense(5)\n",
    "# ])\n",
    "\n",
    "sag_model = tf.keras.models.Sequential([\n",
    "    tf.keras.layers.InputLayer(input_shape=(176,208,3)),\n",
    "    tf.keras.layers.Conv2D(64, (5,5), activation='relu'),\n",
    "    tf.keras.layers.MaxPooling2D((3,3)),\n",
    "    tf.keras.layers.Conv2D(32, (3,3), activation='relu'),\n",
    "    tf.keras.layers.MaxPooling2D((2,2)),\n",
    "    tf.keras.layers.Conv2D(32, (3,3), activation='relu'),\n",
    "    tf.keras.layers.Flatten(),\n",
    "    tf.keras.layers.Dropout(.1),\n",
    "    tf.keras.layers.Dense(32),\n",
    "    tf.keras.layers.Dense(5, activation='softmax'),\n",
    "])\n",
    "\n",
    "sag_model.summary()\n",
    "sag_model.compile(optimizer='adam',loss=tf.keras.losses.CategoricalCrossentropy(from_logits=False), metrics=['accuracy'])"
   ]
  },
  {
   "cell_type": "markdown",
   "metadata": {},
   "source": [
    "### DATA LOADING"
   ]
  },
  {
   "cell_type": "code",
   "execution_count": 2,
   "metadata": {},
   "outputs": [],
   "source": [
    "def load_images_and_labels(path):\n",
    "    oasis_df = pd.read_csv(\"Data/oasis_filtered.csv\")\n",
    "    oasis_df.set_index(['ID'], inplace=True)\n",
    "    images = []\n",
    "    labels = []\n",
    "    for file in os.listdir(path):\n",
    "        if file != '.DS_Store':\n",
    "            img = cv.imread(os.path.join(path,file))\n",
    "            subject_id = file[:13]\n",
    "            label = oasis_df.loc[subject_id,'CDR']\n",
    "\n",
    "            if label == 0:\n",
    "                label = 0.0\n",
    "            elif label == 0.5:\n",
    "                label = 1.0\n",
    "            elif label == 1:\n",
    "                label = 2.0\n",
    "            elif label == 2:\n",
    "                label = 3.0\n",
    "            elif label == 3:\n",
    "                label = 4.0\n",
    "\n",
    "            # Normalize image values\n",
    "            img = img / 255\n",
    "            images.append(img)\n",
    "            labels.append(label)\n",
    "\n",
    "            if img is None:\n",
    "                print(\"AHHH\")\n",
    "\n",
    "    print(len(images))\n",
    "    return np.array(images),np.array(labels)\n"
   ]
  },
  {
   "cell_type": "code",
   "execution_count": 3,
   "metadata": {},
   "outputs": [],
   "source": [
    "def plot_metrics(history, model):\n",
    "    plt.plot(history.history['accuracy'], label='accuracy')\n",
    "    plt.plot(history.history['val_accuracy'], label = 'val_accuracy')\n",
    "    plt.xlabel('Epoch')\n",
    "    plt.ylabel('Accuracy')\n",
    "    plt.ylim([0.5, 1])\n",
    "    plt.legend(loc='lower right')\n",
    "\n",
    "    test_loss, test_acc = model.evaluate(x_test,  y_test, verbose=2)\n",
    "    print(\"Test Loss: \",test_loss)\n",
    "    print(\"Test Accuracy: \",test_acc)"
   ]
  },
  {
   "cell_type": "markdown",
   "metadata": {},
   "source": [
    "## TRAIN CORONAL MODEL"
   ]
  },
  {
   "cell_type": "code",
   "execution_count": 7,
   "metadata": {},
   "outputs": [
    {
     "name": "stdout",
     "output_type": "stream",
     "text": [
      "211\n"
     ]
    },
    {
     "name": "stderr",
     "output_type": "stream",
     "text": [
      "2021-11-02 15:58:26.304422: I tensorflow/compiler/mlir/mlir_graph_optimization_pass.cc:185] None of the MLIR Optimization Passes are enabled (registered 2)\n"
     ]
    },
    {
     "name": "stdout",
     "output_type": "stream",
     "text": [
      "Epoch 1/50\n",
      "6/6 [==============================] - 3s 398ms/step - loss: 1.2188 - accuracy: 0.5476 - val_loss: 0.9619 - val_accuracy: 0.5814\n",
      "Epoch 2/50\n",
      "6/6 [==============================] - 2s 376ms/step - loss: 1.0387 - accuracy: 0.5774 - val_loss: 1.0105 - val_accuracy: 0.4651\n",
      "Epoch 3/50\n",
      "6/6 [==============================] - 2s 375ms/step - loss: 1.0105 - accuracy: 0.5536 - val_loss: 0.9122 - val_accuracy: 0.6279\n",
      "Epoch 4/50\n",
      "6/6 [==============================] - 2s 367ms/step - loss: 0.9650 - accuracy: 0.6071 - val_loss: 0.9595 - val_accuracy: 0.5814\n",
      "Epoch 5/50\n",
      "6/6 [==============================] - 2s 377ms/step - loss: 0.9323 - accuracy: 0.6012 - val_loss: 0.9301 - val_accuracy: 0.6512\n",
      "Epoch 6/50\n",
      "6/6 [==============================] - 2s 379ms/step - loss: 0.8974 - accuracy: 0.6369 - val_loss: 0.9010 - val_accuracy: 0.5814\n",
      "Epoch 7/50\n",
      "6/6 [==============================] - 2s 396ms/step - loss: 0.8402 - accuracy: 0.6369 - val_loss: 0.8613 - val_accuracy: 0.6279\n",
      "Epoch 8/50\n",
      "6/6 [==============================] - 2s 378ms/step - loss: 0.7736 - accuracy: 0.6429 - val_loss: 0.8426 - val_accuracy: 0.6279\n",
      "Epoch 9/50\n",
      "6/6 [==============================] - 2s 389ms/step - loss: 0.7183 - accuracy: 0.6964 - val_loss: 1.0142 - val_accuracy: 0.6047\n",
      "Epoch 10/50\n",
      "6/6 [==============================] - 2s 401ms/step - loss: 0.7658 - accuracy: 0.7024 - val_loss: 0.8323 - val_accuracy: 0.6047\n",
      "Epoch 11/50\n",
      "6/6 [==============================] - 2s 399ms/step - loss: 0.5741 - accuracy: 0.8095 - val_loss: 1.2483 - val_accuracy: 0.5814\n",
      "Epoch 12/50\n",
      "6/6 [==============================] - 3s 469ms/step - loss: 0.6465 - accuracy: 0.7560 - val_loss: 0.8012 - val_accuracy: 0.6512\n",
      "Epoch 13/50\n",
      "6/6 [==============================] - 2s 401ms/step - loss: 0.4637 - accuracy: 0.8631 - val_loss: 0.9591 - val_accuracy: 0.6512\n",
      "Epoch 14/50\n",
      "6/6 [==============================] - 2s 394ms/step - loss: 0.3120 - accuracy: 0.8810 - val_loss: 0.9014 - val_accuracy: 0.5349\n",
      "Epoch 15/50\n",
      "6/6 [==============================] - 2s 410ms/step - loss: 0.2132 - accuracy: 0.9464 - val_loss: 0.9983 - val_accuracy: 0.5116\n",
      "Epoch 16/50\n",
      "6/6 [==============================] - 2s 400ms/step - loss: 0.1321 - accuracy: 0.9702 - val_loss: 1.1916 - val_accuracy: 0.7209\n",
      "Epoch 17/50\n",
      "6/6 [==============================] - 3s 413ms/step - loss: 0.1195 - accuracy: 0.9821 - val_loss: 1.3889 - val_accuracy: 0.6977\n",
      "Epoch 18/50\n",
      "6/6 [==============================] - 2s 404ms/step - loss: 0.1196 - accuracy: 0.9524 - val_loss: 1.0538 - val_accuracy: 0.6047\n",
      "Epoch 19/50\n",
      "6/6 [==============================] - 2s 393ms/step - loss: 0.0428 - accuracy: 1.0000 - val_loss: 1.3481 - val_accuracy: 0.6512\n",
      "Epoch 20/50\n",
      "6/6 [==============================] - 2s 398ms/step - loss: 0.0399 - accuracy: 0.9940 - val_loss: 1.1325 - val_accuracy: 0.6047\n",
      "Epoch 21/50\n",
      "6/6 [==============================] - 2s 401ms/step - loss: 0.0291 - accuracy: 1.0000 - val_loss: 1.6745 - val_accuracy: 0.6047\n",
      "Epoch 22/50\n",
      "6/6 [==============================] - 2s 401ms/step - loss: 0.0274 - accuracy: 1.0000 - val_loss: 1.1062 - val_accuracy: 0.6047\n",
      "Epoch 23/50\n",
      "6/6 [==============================] - 2s 406ms/step - loss: 0.0198 - accuracy: 0.9940 - val_loss: 1.3403 - val_accuracy: 0.6047\n",
      "Epoch 24/50\n",
      "6/6 [==============================] - 3s 445ms/step - loss: 0.0057 - accuracy: 1.0000 - val_loss: 1.5261 - val_accuracy: 0.6047\n",
      "Epoch 25/50\n",
      "6/6 [==============================] - 3s 506ms/step - loss: 0.0074 - accuracy: 1.0000 - val_loss: 1.5359 - val_accuracy: 0.6279\n",
      "Epoch 26/50\n",
      "6/6 [==============================] - 3s 565ms/step - loss: 0.0026 - accuracy: 1.0000 - val_loss: 1.3041 - val_accuracy: 0.6279\n",
      "Epoch 27/50\n",
      "6/6 [==============================] - 4s 608ms/step - loss: 0.0028 - accuracy: 1.0000 - val_loss: 1.3644 - val_accuracy: 0.6279\n",
      "Epoch 28/50\n",
      "6/6 [==============================] - 4s 579ms/step - loss: 0.0018 - accuracy: 1.0000 - val_loss: 1.3820 - val_accuracy: 0.6279\n",
      "Epoch 29/50\n",
      "6/6 [==============================] - 3s 521ms/step - loss: 0.0012 - accuracy: 1.0000 - val_loss: 1.5843 - val_accuracy: 0.6512\n",
      "Epoch 30/50\n",
      "6/6 [==============================] - 3s 449ms/step - loss: 0.0013 - accuracy: 1.0000 - val_loss: 1.7571 - val_accuracy: 0.6512\n",
      "Epoch 31/50\n",
      "6/6 [==============================] - 3s 417ms/step - loss: 8.9802e-04 - accuracy: 1.0000 - val_loss: 1.6933 - val_accuracy: 0.6512\n",
      "Epoch 32/50\n",
      "6/6 [==============================] - 2s 393ms/step - loss: 7.2806e-04 - accuracy: 1.0000 - val_loss: 1.6097 - val_accuracy: 0.6279\n",
      "Epoch 33/50\n",
      "6/6 [==============================] - 2s 402ms/step - loss: 7.7835e-04 - accuracy: 1.0000 - val_loss: 1.6251 - val_accuracy: 0.6279\n",
      "Epoch 34/50\n",
      "6/6 [==============================] - 2s 400ms/step - loss: 6.5952e-04 - accuracy: 1.0000 - val_loss: 1.6562 - val_accuracy: 0.6047\n",
      "Epoch 35/50\n",
      "6/6 [==============================] - 2s 412ms/step - loss: 6.2663e-04 - accuracy: 1.0000 - val_loss: 1.7040 - val_accuracy: 0.6279\n",
      "Epoch 36/50\n",
      "6/6 [==============================] - 2s 407ms/step - loss: 5.7640e-04 - accuracy: 1.0000 - val_loss: 1.6561 - val_accuracy: 0.6047\n",
      "Epoch 37/50\n",
      "6/6 [==============================] - 3s 418ms/step - loss: 5.6432e-04 - accuracy: 1.0000 - val_loss: 1.6042 - val_accuracy: 0.6512\n",
      "Epoch 38/50\n",
      "6/6 [==============================] - 3s 425ms/step - loss: 6.7653e-04 - accuracy: 1.0000 - val_loss: 1.6360 - val_accuracy: 0.6512\n",
      "Epoch 39/50\n",
      "6/6 [==============================] - 3s 439ms/step - loss: 6.3095e-04 - accuracy: 1.0000 - val_loss: 1.6518 - val_accuracy: 0.6512\n",
      "Epoch 40/50\n",
      "6/6 [==============================] - 3s 517ms/step - loss: 6.2136e-04 - accuracy: 1.0000 - val_loss: 1.7276 - val_accuracy: 0.6047\n",
      "Epoch 41/50\n",
      "6/6 [==============================] - 3s 453ms/step - loss: 3.4541e-04 - accuracy: 1.0000 - val_loss: 1.7808 - val_accuracy: 0.6279\n",
      "Epoch 42/50\n",
      "6/6 [==============================] - 3s 434ms/step - loss: 4.6774e-04 - accuracy: 1.0000 - val_loss: 1.7464 - val_accuracy: 0.6047\n",
      "Epoch 43/50\n",
      "6/6 [==============================] - 3s 410ms/step - loss: 4.8209e-04 - accuracy: 1.0000 - val_loss: 1.7403 - val_accuracy: 0.6047\n",
      "Epoch 44/50\n",
      "6/6 [==============================] - 3s 412ms/step - loss: 3.4387e-04 - accuracy: 1.0000 - val_loss: 1.7302 - val_accuracy: 0.6047\n",
      "Epoch 45/50\n",
      "6/6 [==============================] - 2s 410ms/step - loss: 4.3590e-04 - accuracy: 1.0000 - val_loss: 1.7361 - val_accuracy: 0.6047\n",
      "Epoch 46/50\n",
      "6/6 [==============================] - 3s 414ms/step - loss: 4.3519e-04 - accuracy: 1.0000 - val_loss: 1.7547 - val_accuracy: 0.6047\n",
      "Epoch 47/50\n",
      "6/6 [==============================] - 3s 413ms/step - loss: 3.0011e-04 - accuracy: 1.0000 - val_loss: 1.8120 - val_accuracy: 0.6047\n",
      "Epoch 48/50\n",
      "6/6 [==============================] - 3s 414ms/step - loss: 2.8050e-04 - accuracy: 1.0000 - val_loss: 1.7985 - val_accuracy: 0.6047\n",
      "Epoch 49/50\n",
      "6/6 [==============================] - 2s 410ms/step - loss: 3.5490e-04 - accuracy: 1.0000 - val_loss: 1.7389 - val_accuracy: 0.6279\n",
      "Epoch 50/50\n",
      "6/6 [==============================] - 2s 409ms/step - loss: 3.3248e-04 - accuracy: 1.0000 - val_loss: 1.6756 - val_accuracy: 0.6512\n",
      "2/2 - 0s - loss: 1.6756 - accuracy: 0.6512\n",
      "Test Loss:  1.6756072044372559\n",
      "Test Accuracy:  0.6511628031730652\n"
     ]
    },
    {
     "data": {
      "image/png": "[encoded data removed]",
      "text/plain": [
       "<Figure size 432x288 with 1 Axes>"
      ]
     },
     "metadata": {
      "needs_background": "light"
     },
     "output_type": "display_data"
    }
   ],
   "source": [
    "images,labels = load_images_and_labels(image_dirs[0])\n",
    "\n",
    "x_train, x_test, y_train, y_test = train_test_split(images,labels,test_size=0.2,stratify=labels)\n",
    "y_train = tf.keras.utils.to_categorical(y_train,num_classes=5)\n",
    "y_test = tf.keras.utils.to_categorical(y_test,num_classes=5)\n",
    "\n",
    "history = cor_model.fit(x_train, y_train, epochs=30, validation_data=(x_test,y_test),callbacks=[cp_callbacks[0]])\n",
    "\n",
    "plot_metrics(history, cor_model)"
   ]
  },
  {
   "cell_type": "code",
   "execution_count": null,
   "metadata": {},
   "outputs": [],
   "source": [
    "cor_model = tf.keras.models.load_model(\"models/cor_cnn.hdf5\")\n",
    "\n",
    "images,labels = load_images_and_labels(image_dirs[0])\n",
    "\n",
    "x_train, x_test, y_train, y_test = train_test_split(images,labels,test_size=0.2,stratify=labels)\n",
    "y_train = tf.keras.utils.to_categorical(y_train,num_classes=5)\n",
    "y_test = tf.keras.utils.to_categorical(y_test,num_classes=5)\n",
    "\n",
    "pred = cor_model.predict(np.array([x_train[0]]))"
   ]
  },
  {
   "cell_type": "markdown",
   "metadata": {},
   "source": [
    "## TRAIN TRANSVERSE MODEL"
   ]
  },
  {
   "cell_type": "code",
   "execution_count": 14,
   "metadata": {},
   "outputs": [
    {
     "name": "stdout",
     "output_type": "stream",
     "text": [
      "211\n",
      "Epoch 1/30\n",
      "6/6 [==============================] - 3s 437ms/step - loss: 0.8244 - accuracy: 0.8750 - val_loss: 0.7007 - val_accuracy: 0.7209\n",
      "Epoch 2/30\n",
      "6/6 [==============================] - 3s 467ms/step - loss: 0.7489 - accuracy: 0.7202 - val_loss: 0.3090 - val_accuracy: 0.8140\n",
      "Epoch 3/30\n",
      "6/6 [==============================] - 3s 445ms/step - loss: 0.3387 - accuracy: 0.9107 - val_loss: 0.4598 - val_accuracy: 0.7674\n",
      "Epoch 4/30\n",
      "6/6 [==============================] - 3s 441ms/step - loss: 0.3203 - accuracy: 0.8750 - val_loss: 0.2072 - val_accuracy: 0.9070\n",
      "Epoch 5/30\n",
      "6/6 [==============================] - 3s 470ms/step - loss: 0.2389 - accuracy: 0.9345 - val_loss: 0.1729 - val_accuracy: 0.9767\n",
      "Epoch 6/30\n",
      "6/6 [==============================] - 3s 426ms/step - loss: 0.2180 - accuracy: 0.9286 - val_loss: 0.3069 - val_accuracy: 0.8837\n",
      "Epoch 7/30\n",
      "6/6 [==============================] - 3s 429ms/step - loss: 0.1445 - accuracy: 0.9940 - val_loss: 0.2207 - val_accuracy: 0.9302\n",
      "Epoch 8/30\n",
      "6/6 [==============================] - 3s 444ms/step - loss: 0.0890 - accuracy: 0.9762 - val_loss: 0.2065 - val_accuracy: 0.9767\n",
      "Epoch 9/30\n",
      "6/6 [==============================] - 3s 454ms/step - loss: 0.0363 - accuracy: 1.0000 - val_loss: 0.1899 - val_accuracy: 0.9535\n",
      "Epoch 10/30\n",
      "6/6 [==============================] - 3s 470ms/step - loss: 0.0209 - accuracy: 0.9940 - val_loss: 0.1788 - val_accuracy: 0.9767\n",
      "Epoch 11/30\n",
      "6/6 [==============================] - 3s 435ms/step - loss: 0.0129 - accuracy: 1.0000 - val_loss: 0.2134 - val_accuracy: 0.9535\n",
      "Epoch 12/30\n",
      "6/6 [==============================] - 3s 425ms/step - loss: 0.0053 - accuracy: 1.0000 - val_loss: 0.2006 - val_accuracy: 0.9302\n",
      "Epoch 13/30\n",
      "6/6 [==============================] - 3s 423ms/step - loss: 0.0045 - accuracy: 1.0000 - val_loss: 0.2120 - val_accuracy: 0.9535\n",
      "Epoch 14/30\n",
      "6/6 [==============================] - 3s 476ms/step - loss: 0.0026 - accuracy: 1.0000 - val_loss: 0.2230 - val_accuracy: 0.9767\n",
      "Epoch 15/30\n",
      "6/6 [==============================] - 3s 444ms/step - loss: 0.0018 - accuracy: 1.0000 - val_loss: 0.2102 - val_accuracy: 0.9535\n",
      "Epoch 16/30\n",
      "6/6 [==============================] - 3s 435ms/step - loss: 0.0022 - accuracy: 1.0000 - val_loss: 0.2114 - val_accuracy: 0.9535\n",
      "Epoch 17/30\n",
      "6/6 [==============================] - 3s 412ms/step - loss: 0.0018 - accuracy: 1.0000 - val_loss: 0.2168 - val_accuracy: 0.9302\n",
      "Epoch 18/30\n",
      "6/6 [==============================] - 2s 408ms/step - loss: 0.0020 - accuracy: 1.0000 - val_loss: 0.2396 - val_accuracy: 0.9767\n",
      "Epoch 19/30\n",
      "6/6 [==============================] - 3s 420ms/step - loss: 0.0014 - accuracy: 1.0000 - val_loss: 0.2392 - val_accuracy: 0.9767\n",
      "Epoch 20/30\n",
      "6/6 [==============================] - 3s 441ms/step - loss: 9.9535e-04 - accuracy: 1.0000 - val_loss: 0.2246 - val_accuracy: 0.9535\n",
      "Epoch 21/30\n",
      "6/6 [==============================] - 3s 416ms/step - loss: 8.1799e-04 - accuracy: 1.0000 - val_loss: 0.2200 - val_accuracy: 0.9535\n",
      "Epoch 22/30\n",
      "6/6 [==============================] - 3s 431ms/step - loss: 0.0012 - accuracy: 1.0000 - val_loss: 0.2271 - val_accuracy: 0.9535\n",
      "Epoch 23/30\n",
      "6/6 [==============================] - 3s 427ms/step - loss: 8.0745e-04 - accuracy: 1.0000 - val_loss: 0.2364 - val_accuracy: 0.9535\n",
      "Epoch 24/30\n",
      "6/6 [==============================] - 3s 418ms/step - loss: 0.0010 - accuracy: 1.0000 - val_loss: 0.2349 - val_accuracy: 0.9535\n",
      "Epoch 25/30\n",
      "6/6 [==============================] - 3s 427ms/step - loss: 0.0011 - accuracy: 1.0000 - val_loss: 0.2438 - val_accuracy: 0.9767\n",
      "Epoch 26/30\n",
      "6/6 [==============================] - 3s 529ms/step - loss: 6.7558e-04 - accuracy: 1.0000 - val_loss: 0.2413 - val_accuracy: 0.9767\n",
      "Epoch 27/30\n",
      "6/6 [==============================] - 3s 458ms/step - loss: 5.5084e-04 - accuracy: 1.0000 - val_loss: 0.2408 - val_accuracy: 0.9535\n",
      "Epoch 28/30\n",
      "6/6 [==============================] - 3s 425ms/step - loss: 7.4461e-04 - accuracy: 1.0000 - val_loss: 0.2452 - val_accuracy: 0.9535\n",
      "Epoch 29/30\n",
      "6/6 [==============================] - 3s 448ms/step - loss: 4.8028e-04 - accuracy: 1.0000 - val_loss: 0.2456 - val_accuracy: 0.9535\n",
      "Epoch 30/30\n",
      "6/6 [==============================] - 3s 458ms/step - loss: 8.3789e-04 - accuracy: 1.0000 - val_loss: 0.2437 - val_accuracy: 0.9535\n",
      "2/2 - 0s - loss: 0.2437 - accuracy: 0.9535\n",
      "Test Loss:  0.2437383532524109\n",
      "Test Accuracy:  0.9534883499145508\n"
     ]
    },
    {
     "data": {
      "image/png": "[encoded data removed]",
      "text/plain": [
       "<Figure size 432x288 with 1 Axes>"
      ]
     },
     "metadata": {
      "needs_background": "light"
     },
     "output_type": "display_data"
    }
   ],
   "source": [
    "images,labels = load_images_and_labels(image_dirs[1])\n",
    "\n",
    "x_train, x_test, y_train, y_test = train_test_split(images,labels,test_size=0.2,stratify=labels)\n",
    "y_train = tf.keras.utils.to_categorical(y_train,num_classes=5)\n",
    "y_test = tf.keras.utils.to_categorical(y_test,num_classes=5)\n",
    "\n",
    "history = tra_model.fit(x_train, y_train, epochs=30, validation_data=(x_test,y_test),callbacks=[cp_callbacks[1]])\n",
    "\n",
    "plot_metrics(history, tra_model)\n"
   ]
  },
  {
   "cell_type": "markdown",
   "metadata": {},
   "source": [
    "## TRAIN SAGITTAL MODEL"
   ]
  },
  {
   "cell_type": "code",
   "execution_count": 12,
   "metadata": {},
   "outputs": [
    {
     "name": "stdout",
     "output_type": "stream",
     "text": [
      "211\n",
      "Epoch 1/30\n",
      "6/6 [==============================] - 3s 503ms/step - loss: 1.2229 - accuracy: 0.4940 - val_loss: 1.0379 - val_accuracy: 0.5814\n",
      "Epoch 2/30\n",
      "6/6 [==============================] - 3s 479ms/step - loss: 1.0415 - accuracy: 0.5774 - val_loss: 0.9784 - val_accuracy: 0.5814\n",
      "Epoch 3/30\n",
      "6/6 [==============================] - 3s 469ms/step - loss: 0.9735 - accuracy: 0.5952 - val_loss: 0.9583 - val_accuracy: 0.5814\n",
      "Epoch 4/30\n",
      "6/6 [==============================] - 3s 463ms/step - loss: 0.9328 - accuracy: 0.6131 - val_loss: 0.9164 - val_accuracy: 0.5814\n",
      "Epoch 5/30\n",
      "6/6 [==============================] - 3s 471ms/step - loss: 0.9030 - accuracy: 0.6012 - val_loss: 0.9554 - val_accuracy: 0.6047\n",
      "Epoch 6/30\n",
      "6/6 [==============================] - 3s 480ms/step - loss: 0.8799 - accuracy: 0.6607 - val_loss: 0.8972 - val_accuracy: 0.6047\n",
      "Epoch 7/30\n",
      "6/6 [==============================] - 3s 482ms/step - loss: 0.8736 - accuracy: 0.6607 - val_loss: 0.9127 - val_accuracy: 0.5814\n",
      "Epoch 8/30\n",
      "6/6 [==============================] - 3s 465ms/step - loss: 0.7770 - accuracy: 0.6667 - val_loss: 1.0515 - val_accuracy: 0.5814\n",
      "Epoch 9/30\n",
      "6/6 [==============================] - 3s 490ms/step - loss: 0.7514 - accuracy: 0.6667 - val_loss: 0.9837 - val_accuracy: 0.5116\n",
      "Epoch 10/30\n",
      "6/6 [==============================] - 3s 507ms/step - loss: 0.7046 - accuracy: 0.7321 - val_loss: 1.0531 - val_accuracy: 0.3953\n",
      "Epoch 11/30\n",
      "6/6 [==============================] - 3s 466ms/step - loss: 0.6442 - accuracy: 0.7619 - val_loss: 0.9458 - val_accuracy: 0.5116\n",
      "Epoch 12/30\n",
      "6/6 [==============================] - 3s 466ms/step - loss: 0.5341 - accuracy: 0.7857 - val_loss: 0.9672 - val_accuracy: 0.5116\n",
      "Epoch 13/30\n",
      "6/6 [==============================] - 3s 487ms/step - loss: 0.3969 - accuracy: 0.8512 - val_loss: 1.0661 - val_accuracy: 0.4884\n",
      "Epoch 14/30\n",
      "6/6 [==============================] - 3s 476ms/step - loss: 0.2471 - accuracy: 0.9167 - val_loss: 1.3115 - val_accuracy: 0.5116\n",
      "Epoch 15/30\n",
      "6/6 [==============================] - 3s 477ms/step - loss: 0.2404 - accuracy: 0.9107 - val_loss: 1.2424 - val_accuracy: 0.4651\n",
      "Epoch 16/30\n",
      "6/6 [==============================] - 3s 483ms/step - loss: 0.1632 - accuracy: 0.9583 - val_loss: 1.4756 - val_accuracy: 0.4884\n",
      "Epoch 17/30\n",
      "6/6 [==============================] - 3s 493ms/step - loss: 0.0716 - accuracy: 0.9821 - val_loss: 1.9295 - val_accuracy: 0.4884\n",
      "Epoch 18/30\n",
      "6/6 [==============================] - 3s 473ms/step - loss: 0.0448 - accuracy: 1.0000 - val_loss: 1.9455 - val_accuracy: 0.4884\n",
      "Epoch 19/30\n",
      "6/6 [==============================] - 3s 459ms/step - loss: 0.0312 - accuracy: 1.0000 - val_loss: 1.9098 - val_accuracy: 0.5349\n",
      "Epoch 20/30\n",
      "6/6 [==============================] - 3s 462ms/step - loss: 0.0370 - accuracy: 0.9940 - val_loss: 1.8254 - val_accuracy: 0.5349\n",
      "Epoch 21/30\n",
      "6/6 [==============================] - 3s 470ms/step - loss: 0.0237 - accuracy: 0.9940 - val_loss: 3.1113 - val_accuracy: 0.5581\n",
      "Epoch 22/30\n",
      "6/6 [==============================] - 3s 516ms/step - loss: 0.0307 - accuracy: 0.9940 - val_loss: 2.4311 - val_accuracy: 0.4651\n",
      "Epoch 23/30\n",
      "6/6 [==============================] - 3s 575ms/step - loss: 0.0128 - accuracy: 1.0000 - val_loss: 2.2192 - val_accuracy: 0.4884\n",
      "Epoch 24/30\n",
      "6/6 [==============================] - 3s 573ms/step - loss: 0.0082 - accuracy: 0.9940 - val_loss: 2.4675 - val_accuracy: 0.4884\n",
      "Epoch 25/30\n",
      "6/6 [==============================] - 3s 568ms/step - loss: 0.0025 - accuracy: 1.0000 - val_loss: 2.6342 - val_accuracy: 0.4884\n",
      "Epoch 26/30\n",
      "6/6 [==============================] - 3s 542ms/step - loss: 0.0021 - accuracy: 1.0000 - val_loss: 2.3628 - val_accuracy: 0.5116\n",
      "Epoch 27/30\n",
      "6/6 [==============================] - 3s 496ms/step - loss: 0.0020 - accuracy: 1.0000 - val_loss: 2.3950 - val_accuracy: 0.5116\n",
      "Epoch 28/30\n",
      "6/6 [==============================] - 3s 485ms/step - loss: 8.6061e-04 - accuracy: 1.0000 - val_loss: 2.5148 - val_accuracy: 0.5116\n",
      "Epoch 29/30\n",
      "6/6 [==============================] - 3s 486ms/step - loss: 0.0010 - accuracy: 1.0000 - val_loss: 2.5140 - val_accuracy: 0.5116\n",
      "Epoch 30/30\n",
      "6/6 [==============================] - 3s 491ms/step - loss: 0.0012 - accuracy: 1.0000 - val_loss: 2.6396 - val_accuracy: 0.4884\n",
      "2/2 - 0s - loss: 2.6396 - accuracy: 0.4884\n",
      "Test Loss:  2.6395654678344727\n",
      "Test Accuracy:  0.4883720874786377\n"
     ]
    },
    {
     "data": {
      "image/png": "[encoded data removed]",
      "text/plain": [
       "<Figure size 432x288 with 1 Axes>"
      ]
     },
     "metadata": {
      "needs_background": "light"
     },
     "output_type": "display_data"
    }
   ],
   "source": [
    "images,labels = load_images_and_labels(image_dirs[2])\n",
    "\n",
    "x_train, x_test, y_train, y_test = train_test_split(images,labels,test_size=0.2,stratify=labels)\n",
    "y_train = tf.keras.utils.to_categorical(y_train,num_classes=5)\n",
    "y_test = tf.keras.utils.to_categorical(y_test,num_classes=5)\n",
    "\n",
    "history = sag_model.fit(x_train, y_train, epochs=30, validation_data=(x_test,y_test),callbacks=[cp_callbacks[2]])\n",
    "\n",
    "plot_metrics(history, sag_model)"
   ]
  }
 ],
 "metadata": {
  "interpreter": {
   "hash": "393fcab780e87c738780ceeb980b543ebdfd57cc9b80e4ffd28fcf595b13429f"
  },
  "kernelspec": {
   "display_name": "Python 3.8.10 64-bit ('CSUG': conda)",
   "name": "python3"
  },
  "language_info": {
   "codemirror_mode": {
    "name": "ipython",
    "version": 3
   },
   "file_extension": ".py",
   "mimetype": "text/x-python",
   "name": "python",
   "nbconvert_exporter": "python",
   "pygments_lexer": "ipython3",
   "version": "3.8.10"
  },
  "orig_nbformat": 4
 },
 "nbformat": 4,
 "nbformat_minor": 2
}
